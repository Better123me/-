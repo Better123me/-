{
 "cells": [
  {
   "cell_type": "code",
   "execution_count": null,
   "metadata": {},
   "outputs": [],
   "source": [
    "# 在一张excel表格中保存多张子表\n",
    "# 创建ExcelWriter对象，指定要保存的Excel文件路径,并添加时间戳\n",
    "from datetime import datetime\n",
    "import pandas as pd\n",
    "with pd.ExcelWriter(f'output_{datetime.now().date():%Y-%m-%d}.xlsx') as writer:\n",
    "    # 将df_whole保存到名为'data{i}_whole'的工作表中\n",
    "    df_whole.to_excel(writer, sheet_name=f'data_whole', index=False)\n",
    "    df_bg.to_excel(writer, sheet_name=f'data_bg', index=False)\n",
    "    df_subSquares.to_excel(writer, sheet_name=f'data_subSquares', index=False)"
   ]
  },
  {
   "cell_type": "code",
   "execution_count": null,
   "metadata": {},
   "outputs": [],
   "source": [
    "# 对列表按规则排序\n",
    "maskPaths = sorted(maskPaths, key=lambda x: int(x.split('.')[0].split(\"\\\\\")[-1]))"
   ]
  },
  {
   "cell_type": "code",
   "execution_count": null,
   "metadata": {},
   "outputs": [],
   "source": [
    "# 获得一张表中特定两列所有按行匹配的数据，并根据某一列的元素的值重新排列\n",
    "def getCoupleDate(self, col1Name, col2Name):\n",
    "    col1 = self.data[col1Name]\n",
    "    col2 = self.data[col2Name]\n",
    "    unique_pairs = set(zip(col1, col2))\n",
    "    sorted_pairs = sorted(unique_pairs, key=lambda pair: pair[0])\n",
    "    x_list, y_list = zip(*sorted_pairs)\n",
    "    return x_list, y_list"
   ]
  },
  {
   "cell_type": "code",
   "execution_count": null,
   "metadata": {},
   "outputs": [],
   "source": [
    "# 计算两张表之间数据的相关性\n",
    "from scipy.stats import pearsonr\n",
    "def calculate_correlation(df1, df2, k):\n",
    "    correlated_columns = []\n",
    "    for col1 in df1.columns:\n",
    "        for col2 in df2.columns:\n",
    "            correlation, _ = pearsonr(df1[col1], df2[col2])\n",
    "            if abs(correlation) > k:\n",
    "                correlated_columns.append((col1, col2, correlation))\n",
    "    return correlated_columns\n"
   ]
  },
  {
   "cell_type": "code",
   "execution_count": null,
   "metadata": {},
   "outputs": [],
   "source": [
    "# 清空整个df\n",
    "def clear_dataframe(df):\n",
    "    cleared_df = df.drop(df.index, axis=0).drop(df.columns, axis=1)\n",
    "    return cleared_df\n"
   ]
  },
  {
   "cell_type": "code",
   "execution_count": null,
   "metadata": {},
   "outputs": [],
   "source": [
    "# 筛选出符合特征组要求的列\n",
    "# select xx with a > b and c < d这种\n",
    "filtered_df = df[(df['thresholdSrc'] == thresholdSrc) & (df['thresholdMethod'] == method)]"
   ]
  },
  {
   "cell_type": "code",
   "execution_count": null,
   "metadata": {},
   "outputs": [],
   "source": [
    "# 重命名列名\n",
    "column_names = filtered_df.columns\n",
    "new_column_names = [tname + \"_\" + col_name for col_name in column_names]\n",
    "filtered_df.columns = new_column_names"
   ]
  },
  {
   "cell_type": "code",
   "execution_count": null,
   "metadata": {},
   "outputs": [],
   "source": [
    "# 去除指定特征列名的列\n",
    "columns_to_drop = [col for col in concatenated_df.columns if 'id' in col.lower() and col.lower() != 'all_id']\n",
    "concatenated_df.drop(columns=columns_to_drop, inplace=True)"
   ]
  },
  {
   "cell_type": "code",
   "execution_count": null,
   "metadata": {},
   "outputs": [],
   "source": [
    "# 随机打乱行序\n",
    "df_shuffled = df.sample(frac=1).reset_index(drop=True)"
   ]
  },
  {
   "cell_type": "code",
   "execution_count": null,
   "metadata": {},
   "outputs": [],
   "source": [
    "# 数据添加高斯噪声\n",
    "a_data_noisy = color_data + np.random.normal(0, 15, size=color_data.shape)  "
   ]
  },
  {
   "cell_type": "code",
   "execution_count": null,
   "metadata": {},
   "outputs": [],
   "source": [
    "# 生成随机数据\n",
    "# 定义数据范围和条数  \n",
    "min_value = 1  # 最小值  \n",
    "max_value = 10  # 最大值  \n",
    "num_data_points = 10000  # 生成的数据条数  \n",
    "color_data = np.random.randint(min_value, max_value, size=num_data_points)  "
   ]
  },
  {
   "cell_type": "code",
   "execution_count": null,
   "metadata": {},
   "outputs": [],
   "source": [
    "# 数据截断，取最大值和最小值之间的部分\n",
    "e_data_noisy = np.clip(e_data_noisy, 1, 6)  "
   ]
  }
 ],
 "metadata": {
  "language_info": {
   "name": "python"
  }
 },
 "nbformat": 4,
 "nbformat_minor": 2
}
