{
 "cells": [
  {
   "cell_type": "code",
   "execution_count": null,
   "metadata": {},
   "outputs": [],
   "source": [
    "# 1.plt 显示图片并加上颜色棒\n",
    "\n",
    "def show(self, title:str=\"\"):\n",
    "    if title:\n",
    "        plt.title(title)\n",
    "    plt.imshow(self.img.T, origin='lower', aspect='auto', vmin=np.median(self.img),vmax=np.percentile(self.img,99.9))  # 使用'viridis'颜色映射，并自动调整纵横比\n",
    "    plt.colorbar()  \n",
    "    plt.show()"
   ]
  },
  {
   "cell_type": "code",
   "execution_count": null,
   "metadata": {},
   "outputs": [],
   "source": [
    "# 绘制折线图，并一表多线\n",
    "import numpy as np\n",
    "def showAnalysis(x_label = \"\", y_label=\"\", title=\"\"):\n",
    "    # 获取x, y1, y2, y3\n",
    "    y_minBr = np.min(img, axis=0)\n",
    "    y_avgBr = np.mean(img, axis=0)\n",
    "    y_maxBr = np.max(img, axis=0)\n",
    "    x = np.arange(len(y_minBr))\n",
    "\n",
    "\n",
    "    # 设置坐标轴样式\n",
    "    x_label = \"image_x\" if x_label == \"\" else x_label\n",
    "    y_label = \"image_AV/min/max_Br of x direction\" if y_label == \"\" else y_label\n",
    "    title = \"here is your title\"\n",
    "\n",
    "    plt.figure(figsize=(8, 6))  # 设置图像大小\n",
    "    plt.plot(x, y_minBr, label='min_Br', color='blue')  # 绘制亮度总和曲线\n",
    "    plt.plot(x, y_avgBr, label='mean_Br', color='red')  # 绘制平均亮度曲线\n",
    "    plt.plot(x, y_maxBr, label='max_Br', color='green')  # 绘制最大亮度曲线\n",
    "    plt.xlabel(x_label)  # 设置 x 轴标题\n",
    "    plt.ylabel(y_label)  # 设置 y 轴标题\n",
    "    plt.title(title)  # 设置图表标题\n",
    "    plt.legend(loc='upper right')  # 显示曲线和颜色对应值\n",
    "    plt.grid(False)  # 不添加网格线\n",
    "    plt.show()"
   ]
  },
  {
   "cell_type": "code",
   "execution_count": null,
   "metadata": {},
   "outputs": [],
   "source": [
    "# 在图像上添加点\n",
    "plt.scatter(x=x1, y=y1,color='red', edgecolor='red', marker='o', facecolors='none')\n",
    "plt.text(x1, y1, 'maxBrightness', color='red', fontsize=8, ha='left', va='top')"
   ]
  },
  {
   "cell_type": "code",
   "execution_count": null,
   "metadata": {},
   "outputs": [],
   "source": [
    "# 绘制简单的折线图\n",
    "def plotLineChart(self, x_data, y_data, title=None, x_label=None, y_label=None, savePath=None):\n",
    "    plt.plot(x_data, y_data)\n",
    "    plt.title(title)\n",
    "    plt.xlabel(x_label)\n",
    "    plt.ylabel(y_label)\n",
    "    plt.show()\n",
    "    if savePath:\n",
    "        plt.savefig(savePath)"
   ]
  },
  {
   "cell_type": "code",
   "execution_count": null,
   "metadata": {},
   "outputs": [],
   "source": [
    "# 一张图上画多个子表\n",
    "def plot_multiple_charts(self, save_path=None):\n",
    "        x = self.utils.data['img_id']\n",
    "        x_label = \"Image Index/shot number\"\n",
    "        featureList = [\"AV_Br\", \"max_x\", \"max_y\", \"COG_x\", \"COG_y\", \"A_O_B\"]\n",
    "        yListName = [\"avgBrightness\", \"cord_maxBright_x\", \"cord_maxBright_y\",\n",
    "                     \"cord_gravity_x\", \"cord_gravity_y\", \"ratio_bright\"]\n",
    "        y_data = []\n",
    "        for name in yListName:\n",
    "            y_data.append(self.utils.data[name])\n",
    "\n",
    "        fig, axs = plt.subplots(2, 3, figsize=(14, 8))\n",
    "        for i in range(2):\n",
    "            for j in range(3):\n",
    "                y = y_data[i * 3 + j]\n",
    "                x_label = x_label\n",
    "                y_label = self.category + \" \" + featureList[i * 3 + j]\n",
    "                ax = axs[i, j]\n",
    "                ax.plot(x, y)\n",
    "                ax.set_xlabel(x_label)\n",
    "                ax.set_ylabel(y_label)\n",
    "                ax.set_title(y_label + \"VS shot number\")\n",
    "        plt.tight_layout()\n",
    "\n",
    "        if save_path:\n",
    "            plt.savefig(save_path)\n",
    "\n",
    "        plt.show()"
   ]
  },
  {
   "cell_type": "code",
   "execution_count": null,
   "metadata": {},
   "outputs": [],
   "source": [
    "# 根据保存的图像合并成大图-多图合并\n",
    "\n",
    "def merge_plots(self, filenames, size, titles):\n",
    "    rows, cols = size\n",
    "    fig, axs = plt.subplots(rows, cols, figsize=(cols * 5, rows * 5))\n",
    "    for ax, filename, title in zip(axs.flatten(), filenames, titles):\n",
    "        image = plt.imread(filename)\n",
    "        ax.imshow(image)\n",
    "        ax.axis('off')  # 关闭坐标轴\n",
    "        ax.set_title(title)\n",
    "\n",
    "    plt.tight_layout()  # 调整子图布局，以防重叠\n",
    "    plt.show()"
   ]
  }
 ],
 "metadata": {
  "language_info": {
   "name": "python"
  }
 },
 "nbformat": 4,
 "nbformat_minor": 2
}
