{
 "cells": [
  {
   "cell_type": "code",
   "execution_count": null,
   "metadata": {},
   "outputs": [],
   "source": [
    "# 判断文本内容是否完全符合数字的格式\n",
    "def is_valid_number(s):\n",
    "    pattern = r'^[-+]?\\d+(\\.\\d+)?$'\n",
    "    match = re.match(pattern, s)\n",
    "    return bool(match)\n"
   ]
  },
  {
   "cell_type": "code",
   "execution_count": null,
   "metadata": {},
   "outputs": [],
   "source": [
    "# 线性插值\n",
    "def linear_interpolation(x, x1, y1, x2, y2):\n",
    "    if x2 == x1:\n",
    "        exit(-1)\n",
    "    y = y1 + ((x - x1) * (y2 - y1)) / (x2 - x1)\n",
    "    return y"
   ]
  }
 ],
 "metadata": {
  "language_info": {
   "name": "python"
  }
 },
 "nbformat": 4,
 "nbformat_minor": 2
}
