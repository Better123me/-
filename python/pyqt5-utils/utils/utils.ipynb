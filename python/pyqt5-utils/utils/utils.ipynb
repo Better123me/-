{
 "cells": [
  {
   "cell_type": "code",
   "execution_count": null,
   "metadata": {},
   "outputs": [],
   "source": [
    "# 导出为docx文档\n",
    "from docx import Document\n",
    "def save_to_docx(text):\n",
    "    if not text:\n",
    "        QMessageBox.warning(self.mainwindow, \"Warning\", \"The QTextEdit is empty. There's nothing to save.\")\n",
    "        return\n",
    "\n",
    "    # 选择要追加的文档\n",
    "    QMessageBox.information(self.mainwindow, \"提示\", \"选择你需要保存的文件\")\n",
    "    file_path, _ = QFileDialog.getOpenFileName(self.mainwindow, \"Open File\", \"\", \"Word Documents (*.docx)\")\n",
    "    if not file_path:\n",
    "        return\n",
    "\n",
    "    # 打开已有的文档\n",
    "    doc = Document(file_path)\n",
    "\n",
    "    # 追加内容到文档末尾\n",
    "    for line in text.split('\\n'):\n",
    "        doc.add_paragraph(line)  # 将 QTextEdit 中的每一行作为一个段落添加到已有文档的末尾\n",
    "\n",
    "    # 保存文档\n",
    "    doc.save(file_path)\n",
    "    QMessageBox.information(self.mainwindow, \"Success\", \"内容保存成功.\")"
   ]
  },
  {
   "cell_type": "code",
   "execution_count": null,
   "metadata": {},
   "outputs": [],
   "source": [
    "# 读取docx文档\n",
    "import os\n",
    "def read_docx(filePath:str):\n",
    "    doc = Document(filePath)\n",
    "    name = os.path.basename(filePath)\n",
    "    name = name.split(\".\")[0]\n",
    "    paraText = []\n",
    "    for para in doc.paragraphs:\n",
    "        paraText.append(para.text)\n",
    "    return paraText"
   ]
  }
 ],
 "metadata": {
  "language_info": {
   "name": "python"
  }
 },
 "nbformat": 4,
 "nbformat_minor": 2
}
