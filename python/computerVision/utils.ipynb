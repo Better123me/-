{
 "cells": [
  {
   "cell_type": "code",
   "execution_count": null,
   "metadata": {},
   "outputs": [],
   "source": [
    "# 处理tif格式文件\n",
    "import skimage.io as io\n",
    "\n",
    "# 根据路径读取图片文件， 在调用前保证路径文件存在\n",
    "def readFromPath(path):\n",
    "    return io.imread(path).astype(float)\n",
    "\n",
    "# 保存文件\n",
    "def save(self):\n",
    "    newfileName = r\"\" + self.category.value() + self.order + \".tif\"\n",
    "    tifffile.imwrite(newfileName, self.img)\n"
   ]
  },
  {
   "cell_type": "code",
   "execution_count": null,
   "metadata": {},
   "outputs": [],
   "source": [
    "# 高斯算法去噪\n",
    "def denoise_Guass(self, kernelSize):\n",
    "    self.img = cv2.GaussianBlur(self.img, (kernelSize, kernelSize), 0)"
   ]
  },
  {
   "cell_type": "code",
   "execution_count": null,
   "metadata": {},
   "outputs": [],
   "source": [
    "from scipy.ndimage import median_filter\n",
    "# 中值滤波去噪\n",
    "def denoise_Median(img, kernelSize):\n",
    "    return median_filter(img, kernelSize)"
   ]
  },
  {
   "cell_type": "code",
   "execution_count": null,
   "metadata": {},
   "outputs": [],
   "source": [
    "# 获得图像最亮点的坐标\n",
    "def getMaxBrightnessCord(img):\n",
    "    max_index = np.unravel_index(np.argmax(img), img.shape)\n",
    "    return [max_index[0], max_index[1]]"
   ]
  },
  {
   "cell_type": "code",
   "execution_count": null,
   "metadata": {},
   "outputs": [],
   "source": [
    "# 获得图像重心x, y坐标\n",
    "def getImgGravity(img):\n",
    "    max_pixel_value = np.max(img)\n",
    "    normalized_img = img.astype(float) / max_pixel_value\n",
    "\n",
    "    rows, cols = img.shape\n",
    "    row_indices, col_indices = np.indices((rows, cols))\n",
    "    weighted_row_indices = row_indices * normalized_img\n",
    "    weighted_col_indices = col_indices * normalized_img\n",
    "\n",
    "    total_sum = np.sum(normalized_img)\n",
    "    center_of_mass_row = int(np.sum(weighted_row_indices) / total_sum)\n",
    "    center_of_mass_col = int(np.sum(weighted_col_indices) / total_sum)\n",
    "    return [center_of_mass_row, center_of_mass_col]"
   ]
  },
  {
   "cell_type": "code",
   "execution_count": null,
   "metadata": {},
   "outputs": [],
   "source": [
    "# 获得图片全局平均亮度\n",
    "def getAverageBrightness(img):\n",
    "    global_brightness = np.mean(img)\n",
    "    return global_brightness"
   ]
  },
  {
   "cell_type": "code",
   "execution_count": null,
   "metadata": {},
   "outputs": [],
   "source": [
    "# 对图片进行阈值化处理_hard      高于阈值取像素最大值，低于阈值取0\n",
    "def hard_thresholding(self, threshold):\n",
    "    p_max = np.max(self.img)\n",
    "    self.thresholdImg = np.where(self.img > threshold, p_max, 0)\n",
    "\n",
    "# soft阈值化处理          高于阈值的部分不变，低于的部分变成0\n",
    "def soft_thresholding(self, threshold):\n",
    "    self.thresholdImg = np.where(self.img > threshold, self.img, 0)\n",
    "\n",
    "# softadjust 高于的部分减去阈值，低于的部分变成0\n",
    "def softAdjust_thresholding(self, threshold):\n",
    "    self.thresholdImg = np.where(self.img > threshold, self.img - threshold, 0)"
   ]
  },
  {
   "cell_type": "code",
   "execution_count": null,
   "metadata": {},
   "outputs": [],
   "source": [
    "# 对图像进行掩膜运算\n",
    "mask = self.readImg(maskPath)\n",
    "maskedImg = np.copy(self.img)\n",
    "maskedImg[mask != 255] = 0"
   ]
  },
  {
   "cell_type": "code",
   "execution_count": null,
   "metadata": {},
   "outputs": [],
   "source": [
    "# 列表当中的数据线性映射\n",
    "def map_to_range_and_round(values, new_min=0, new_max=5, decimal_places=1):  \n",
    "    # 确定原始列表中的最小值和最大值  \n",
    "    min_val = min(values)  \n",
    "    max_val = max(values)  \n",
    "      \n",
    "    # 线性映射函数  \n",
    "    def linear_map(value):  \n",
    "        return new_min + (value - min_val) * ((new_max - new_min) / (max_val - min_val))  \n",
    "      \n",
    "    # 应用映射函数并保留指定的小数位数  \n",
    "    mapped_values = [round(linear_map(value), decimal_places) for value in values]  \n",
    "      \n",
    "    return mapped_values  "
   ]
  }
 ],
 "metadata": {
  "language_info": {
   "name": "python"
  }
 },
 "nbformat": 4,
 "nbformat_minor": 2
}
